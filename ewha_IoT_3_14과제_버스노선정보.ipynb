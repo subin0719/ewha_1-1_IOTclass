{
  "nbformat": 4,
  "nbformat_minor": 0,
  "metadata": {
    "colab": {
      "provenance": [],
      "authorship_tag": "ABX9TyPjTL2ZIm3DZvIkAowhhxut",
      "include_colab_link": true
    },
    "kernelspec": {
      "name": "python3",
      "display_name": "Python 3"
    },
    "language_info": {
      "name": "python"
    }
  },
  "cells": [
    {
      "cell_type": "markdown",
      "metadata": {
        "id": "view-in-github",
        "colab_type": "text"
      },
      "source": [
        "<a href=\"https://colab.research.google.com/github/subin0719/ewha_1-1_IOTclass/blob/main/ewha_IoT_3_14%EA%B3%BC%EC%A0%9C_%EB%B2%84%EC%8A%A4%EB%85%B8%EC%84%A0%EC%A0%95%EB%B3%B4.ipynb\" target=\"_parent\"><img src=\"https://colab.research.google.com/assets/colab-badge.svg\" alt=\"Open In Colab\"/></a>"
      ]
    },
    {
      "cell_type": "code",
      "execution_count": 12,
      "metadata": {
        "colab": {
          "base_uri": "https://localhost:8080/"
        },
        "id": "YtWfCBG0TZg1",
        "outputId": "5e95764d-5d1a-4447-d2fc-b3eeceef2c32"
      },
      "outputs": [
        {
          "output_type": "stream",
          "name": "stdout",
          "text": [
            "<?xml version=\"1.0\" encoding=\"UTF-8\" standalone=\"yes\"?><response><comMsgHeader/><msgHeader><queryTime>2024-03-16 21:59:56.147</queryTime><resultCode>0</resultCode><resultMessage>정상적으로 처리되었습니다.</resultMessage></msgHeader><msgBody><busLocationList><endBus>0</endBus><lowPlate>0</lowPlate><plateNo>경기77바3447</plateNo><plateType>3</plateType><remainSeatCnt>34</remainSeatCnt><routeId>228000263</routeId><stationId>277102114</stationId><stationSeq>40</stationSeq></busLocationList><busLocationList><endBus>0</endBus><lowPlate>0</lowPlate><plateNo>경기77바2102</plateNo><plateType>3</plateType><remainSeatCnt>0</remainSeatCnt><routeId>228000263</routeId><stationId>277103385</stationId><stationSeq>54</stationSeq></busLocationList><busLocationList><endBus>0</endBus><lowPlate>0</lowPlate><plateNo>경기77바2215</plateNo><plateType>3</plateType><remainSeatCnt>43</remainSeatCnt><routeId>228000263</routeId><stationId>277103390</stationId><stationSeq>27</stationSeq></busLocationList></msgBody></response>\n"
          ]
        }
      ],
      "source": [
        "import requests\n",
        "url='http://openapi.gbis.go.kr/ws/rest/buslocationservice?serviceKey=1234567890&routeId=228000263'\n",
        "#url='http://openapi.gibis.go.kr/ws/rest/buslocationservice?servicekey=1234567890&routeld=228000263'\n",
        "r = requests.get(url)\n",
        "print(r.text)"
      ]
    },
    {
      "cell_type": "code",
      "source": [
        "from bs4 import BeautifulSoup\n",
        "\n",
        "soup = BeautifulSoup(r.text, features=\"xml\")"
      ],
      "metadata": {
        "id": "DRP7C2RtVDsQ"
      },
      "execution_count": 16,
      "outputs": []
    },
    {
      "cell_type": "code",
      "source": [
        "soup.find_all('stationId')"
      ],
      "metadata": {
        "colab": {
          "base_uri": "https://localhost:8080/"
        },
        "id": "mZqPQyBeVX-H",
        "outputId": "b68d8e60-9dc4-4b91-8523-98d38d694295"
      },
      "execution_count": 19,
      "outputs": [
        {
          "output_type": "execute_result",
          "data": {
            "text/plain": [
              "[<stationId>277102114</stationId>,\n",
              " <stationId>277103385</stationId>,\n",
              " <stationId>277103390</stationId>]"
            ]
          },
          "metadata": {},
          "execution_count": 19
        }
      ]
    },
    {
      "cell_type": "code",
      "source": [
        "print('학번=', 2462030, '이름=', '박수빈')"
      ],
      "metadata": {
        "colab": {
          "base_uri": "https://localhost:8080/"
        },
        "id": "1lXl2IkxVhlr",
        "outputId": "86b3bf04-9171-41c4-f612-93fcbf92ec65"
      },
      "execution_count": null,
      "outputs": [
        {
          "output_type": "stream",
          "name": "stdout",
          "text": [
            "학번= 2462030 이름= 박수빈\n"
          ]
        }
      ]
    }
  ]
}