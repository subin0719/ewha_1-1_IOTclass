{
  "nbformat": 4,
  "nbformat_minor": 0,
  "metadata": {
    "colab": {
      "provenance": [],
      "authorship_tag": "ABX9TyPzARhmG1gr8KGkJHyrcOcs",
      "include_colab_link": true
    },
    "kernelspec": {
      "name": "python3",
      "display_name": "Python 3"
    },
    "language_info": {
      "name": "python"
    }
  },
  "cells": [
    {
      "cell_type": "markdown",
      "metadata": {
        "id": "view-in-github",
        "colab_type": "text"
      },
      "source": [
        "<a href=\"https://colab.research.google.com/github/subin0719/ewha_1-1_IOTclass/blob/main/3_18_medicalcenter.ipynb\" target=\"_parent\"><img src=\"https://colab.research.google.com/assets/colab-badge.svg\" alt=\"Open In Colab\"/></a>"
      ]
    },
    {
      "cell_type": "code",
      "execution_count": 17,
      "metadata": {
        "colab": {
          "base_uri": "https://localhost:8080/"
        },
        "id": "JbIS7425D1XL",
        "outputId": "2aaada12-eeb4-4e0a-abc9-efc36faa405a"
      },
      "outputs": [
        {
          "output_type": "stream",
          "name": "stdout",
          "text": [
            "{\"currentCount\":10,\"data\":[{\"대표전화번호\":\"02-3423-7200\",\"도서지역여부\":\"N\",\"보건기관 유형\":\"보건소\",\"보건기관명\":\"강남구보건소\",\"시군구\":\"강남구\",\"시도\":\"서울\",\"우편번호\":\"135-864\",\"읍면동명\":\"삼성동\",\"주소\":\"서울 강남구 선릉로 668\"},{\"대표전화번호\":\"02-3425-8500\",\"도서지역여부\":\"N\",\"보건기관 유형\":\"보건소\",\"보건기관명\":\"강동구보건소\",\"시군구\":\"강동구\",\"시도\":\"서울\",\"우편번호\":\"5397\",\"읍면동명\":\"성내동\",\"주소\":\"서울 강동구 성내로 45  (성내동, 강동구보건소)\"},{\"대표전화번호\":\"02-3425-6878\",\"도서지역여부\":\"N\",\"보건기관 유형\":\"일반보건지소\",\"보건기관명\":\"강일보건지소\",\"시군구\":\"강동구\",\"시도\":\"서울\",\"우편번호\":\"5211\",\"읍면동명\":\"강일동\",\"주소\":\"서울 강동구 아리수로93길 9-14  (강일동, 강일동복합청사)\"},{\"대표전화번호\":\"02-901-7600\",\"도서지역여부\":\"N\",\"보건기관 유형\":\"보건소\",\"보건기관명\":\"강북구보건소\",\"시군구\":\"강북구\",\"시도\":\"서울\",\"우편번호\":\"1145\",\"읍면동명\":\"번동\",\"주소\":\"서울 강북구 한천로 897 (번동, 강북보건소,번2동 주민센터)\"},{\"대표전화번호\":\"02-2600-5800\",\"도서지역여부\":\"N\",\"보건기관 유형\":\"보건소\",\"보건기관명\":\"강서구보건소\",\"시군구\":\"강서구\",\"시도\":\"서울\",\"우편번호\":\"7560\",\"읍면동명\":\"염창동\",\"주소\":\"서울 강서구 공항대로 561  (염창동, 강서보건소)\"},{\"대표전화번호\":\"02-879-7114\",\"도서지역여부\":\"N\",\"보건기관 유형\":\"보건소\",\"보건기관명\":\"관악구보건소\",\"시군구\":\"관악구\",\"시도\":\"서울\",\"우편번호\":\"8832\",\"읍면동명\":\"봉천동\",\"주소\":\"서울 관악구 관악로 145, 2동  (봉천동, 관악구청)\"},{\"대표전화번호\":\"02-879-7403\",\"도서지역여부\":\"N\",\"보건기관 유형\":\"일반보건지소\",\"보건기관명\":\"관악구보건지소\",\"시군구\":\"관악구\",\"시도\":\"서울\",\"우편번호\":\"8720\",\"읍면동명\":\"봉천동\",\"주소\":\"서울 관악구 봉천로 279-7  (봉천동, 관악구보건지소)\"},{\"대표전화번호\":\"02-450-1422\",\"도서지역여부\":\"N\",\"보건기관 유형\":\"보건소\",\"보건기관명\":\"광진구보건소\",\"시군구\":\"광진구\",\"시도\":\"서울\",\"우편번호\":\"5026\",\"읍면동명\":\"자양동\",\"주소\":\"서울 광진구 자양로 117, 제2별관 광진구보건소 (자양동, 광진구청)\"},{\"대표전화번호\":\"02-450-7011\",\"도서지역여부\":\"N\",\"보건기관 유형\":\"일반보건지소\",\"보건기관명\":\"자양보건지소\",\"시군구\":\"광진구\",\"시도\":\"서울\",\"우편번호\":\"5072\",\"읍면동명\":\"자양동\",\"주소\":\"서울 광진구 아차산로24길 17 2층 (자양동, 자양공공힐링센터)\"},{\"대표전화번호\":\"02-450-1424\",\"도서지역여부\":\"N\",\"보건기관 유형\":\"일반보건지소\",\"보건기관명\":\"중곡보건지소\",\"시군구\":\"광진구\",\"시도\":\"서울\",\"우편번호\":\"4922\",\"읍면동명\":\"중곡동\",\"주소\":\"서울 광진구 긴고랑로 110 보건지소(1,2층) (중곡동, 중곡종합건강센터)\"}],\"matchCount\":3564,\"page\":1,\"perPage\":10,\"totalCount\":3564}\n",
            "\n"
          ]
        }
      ],
      "source": [
        "import requests\n",
        "\n",
        "url='https://api.odcloud.kr/api/3072692/v1/uddi:9d420e87-8e70-4fb0-a54a-be1244249b2e_201909271427?page=1&perPage=10&serviceKey=2o2HpqA66Uq0q%2BAyx0b2sSzdWvYXL7V1ktAaiXFMKIeZY4aNqkXTmD%2FccpKcjP07aZuWi0elAiUEb2E9e%2BiFSA%3D%3D'\n",
        "#url=https://api.odcloud.kr/api/3072692/v1/uddi:9d420e87-8e70-4fb0-a54a-be1244249b2e_201909271427?page=1&perPage=10&serviceKey=2o2HpqA66Uq0q%2BAyx0b2sSzdWvYXL7V1ktAaiXFMKIeZY4aNqkXTmD%2FccpKcjP07aZuWi0elAiUEb2E9e%2BiFSA%3D%3D\n",
        "r = requests.get(url)\n",
        "print(r.text)"
      ]
    },
    {
      "cell_type": "code",
      "source": [
        "from bs4 import BeautifulSoup\n",
        "\n",
        "soup = BeautifulSoup(r.text, features='xml')"
      ],
      "metadata": {
        "id": "0-4jFurdPqCL"
      },
      "execution_count": 21,
      "outputs": []
    },
    {
      "cell_type": "code",
      "source": [
        "print(soup.find_all('보건기관명'))"
      ],
      "metadata": {
        "colab": {
          "base_uri": "https://localhost:8080/"
        },
        "id": "gAaaWybtKptU",
        "outputId": "b8e2c191-2d14-4066-888e-b8d939b677e8"
      },
      "execution_count": 27,
      "outputs": [
        {
          "output_type": "stream",
          "name": "stdout",
          "text": [
            "[]\n"
          ]
        }
      ]
    },
    {
      "cell_type": "code",
      "source": [
        "print('학번=', 2462030, '이름=', '박수빈')"
      ],
      "metadata": {
        "colab": {
          "base_uri": "https://localhost:8080/"
        },
        "id": "F38BRUpQKxOC",
        "outputId": "da6322a5-811d-4c25-baa0-02ddf222048e"
      },
      "execution_count": 24,
      "outputs": [
        {
          "output_type": "stream",
          "name": "stdout",
          "text": [
            "학번= 2462030 이름= 박수빈\n"
          ]
        }
      ]
    }
  ]
}